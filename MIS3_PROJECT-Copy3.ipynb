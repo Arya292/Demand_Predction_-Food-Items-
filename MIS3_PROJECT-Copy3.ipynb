{
 "cells": [
  {
   "cell_type": "markdown",
   "metadata": {},
   "source": [
    "## Exploratory Data Analysis (EDA) "
   ]
  },
  {
   "cell_type": "code",
   "execution_count": 1,
   "metadata": {},
   "outputs": [],
   "source": [
    "import numpy as np\n",
    "import pandas as pd\n",
    "import matplotlib.pyplot as plt\n",
    "import seaborn as sns\n",
    "\n"
   ]
  },
  {
   "cell_type": "code",
   "execution_count": 2,
   "metadata": {},
   "outputs": [],
   "source": [
    "from sklearn.model_selection import train_test_split\n",
    "from statsmodels.tsa.seasonal import seasonal_decompose\n"
   ]
  },
  {
   "cell_type": "code",
   "execution_count": 3,
   "metadata": {},
   "outputs": [],
   "source": [
    "from xgboost import XGBRegressor\n",
    "from sklearn.tree import DecisionTreeRegressor\n",
    "from sklearn.ensemble import RandomForestRegressor\n",
    "import pmdarima as pm\n",
    "import statsmodels.tsa.stattools as ts\n",
    "# Metric library\n",
    "from sklearn.metrics import mean_squared_error\n",
    "import math"
   ]
  },
  {
   "cell_type": "code",
   "execution_count": 4,
   "metadata": {},
   "outputs": [],
   "source": [
    "df1 = pd.read_csv('train.csv')\n",
    "df2 = pd.read_csv('tst.csv')\n",
    "df = pd.read_csv('new_data1.csv')\n",
    "\n",
    "\n"
   ]
  },
  {
   "cell_type": "markdown",
   "metadata": {},
   "source": [
    "## Train data "
   ]
  },
  {
   "cell_type": "code",
   "execution_count": 5,
   "metadata": {},
   "outputs": [
    {
     "data": {
      "text/html": [
       "<div>\n",
       "<style scoped>\n",
       "    .dataframe tbody tr th:only-of-type {\n",
       "        vertical-align: middle;\n",
       "    }\n",
       "\n",
       "    .dataframe tbody tr th {\n",
       "        vertical-align: top;\n",
       "    }\n",
       "\n",
       "    .dataframe thead th {\n",
       "        text-align: right;\n",
       "    }\n",
       "</style>\n",
       "<table border=\"1\" class=\"dataframe\">\n",
       "  <thead>\n",
       "    <tr style=\"text-align: right;\">\n",
       "      <th></th>\n",
       "      <th>id</th>\n",
       "      <th>week</th>\n",
       "      <th>center_id</th>\n",
       "      <th>meal_id</th>\n",
       "      <th>checkout_price</th>\n",
       "      <th>base_price</th>\n",
       "      <th>emailer_for_promotion</th>\n",
       "      <th>homepage_featured</th>\n",
       "      <th>num_orders</th>\n",
       "    </tr>\n",
       "  </thead>\n",
       "  <tbody>\n",
       "    <tr>\n",
       "      <th>0</th>\n",
       "      <td>1379560.0</td>\n",
       "      <td>1.0</td>\n",
       "      <td>55.0</td>\n",
       "      <td>1885.0</td>\n",
       "      <td>136.83</td>\n",
       "      <td>152.29</td>\n",
       "      <td>0.0</td>\n",
       "      <td>0.0</td>\n",
       "      <td>177.0</td>\n",
       "    </tr>\n",
       "    <tr>\n",
       "      <th>1</th>\n",
       "      <td>1466964.0</td>\n",
       "      <td>1.0</td>\n",
       "      <td>55.0</td>\n",
       "      <td>1993.0</td>\n",
       "      <td>136.83</td>\n",
       "      <td>135.83</td>\n",
       "      <td>0.0</td>\n",
       "      <td>0.0</td>\n",
       "      <td>270.0</td>\n",
       "    </tr>\n",
       "    <tr>\n",
       "      <th>2</th>\n",
       "      <td>1346989.0</td>\n",
       "      <td>1.0</td>\n",
       "      <td>55.0</td>\n",
       "      <td>2539.0</td>\n",
       "      <td>134.86</td>\n",
       "      <td>135.86</td>\n",
       "      <td>0.0</td>\n",
       "      <td>0.0</td>\n",
       "      <td>189.0</td>\n",
       "    </tr>\n",
       "    <tr>\n",
       "      <th>3</th>\n",
       "      <td>1338232.0</td>\n",
       "      <td>1.0</td>\n",
       "      <td>55.0</td>\n",
       "      <td>2139.0</td>\n",
       "      <td>339.50</td>\n",
       "      <td>437.53</td>\n",
       "      <td>0.0</td>\n",
       "      <td>0.0</td>\n",
       "      <td>54.0</td>\n",
       "    </tr>\n",
       "    <tr>\n",
       "      <th>4</th>\n",
       "      <td>1448490.0</td>\n",
       "      <td>1.0</td>\n",
       "      <td>55.0</td>\n",
       "      <td>2631.0</td>\n",
       "      <td>243.50</td>\n",
       "      <td>242.50</td>\n",
       "      <td>0.0</td>\n",
       "      <td>0.0</td>\n",
       "      <td>40.0</td>\n",
       "    </tr>\n",
       "  </tbody>\n",
       "</table>\n",
       "</div>"
      ],
      "text/plain": [
       "          id  week  center_id  meal_id  checkout_price  base_price  \\\n",
       "0  1379560.0   1.0       55.0   1885.0          136.83      152.29   \n",
       "1  1466964.0   1.0       55.0   1993.0          136.83      135.83   \n",
       "2  1346989.0   1.0       55.0   2539.0          134.86      135.86   \n",
       "3  1338232.0   1.0       55.0   2139.0          339.50      437.53   \n",
       "4  1448490.0   1.0       55.0   2631.0          243.50      242.50   \n",
       "\n",
       "   emailer_for_promotion  homepage_featured  num_orders  \n",
       "0                    0.0                0.0       177.0  \n",
       "1                    0.0                0.0       270.0  \n",
       "2                    0.0                0.0       189.0  \n",
       "3                    0.0                0.0        54.0  \n",
       "4                    0.0                0.0        40.0  "
      ]
     },
     "execution_count": 5,
     "metadata": {},
     "output_type": "execute_result"
    }
   ],
   "source": [
    "df1.head()"
   ]
  },
  {
   "cell_type": "code",
   "execution_count": 6,
   "metadata": {},
   "outputs": [
    {
     "data": {
      "text/plain": [
       "(456550, 9)"
      ]
     },
     "execution_count": 6,
     "metadata": {},
     "output_type": "execute_result"
    }
   ],
   "source": [
    "df1.shape"
   ]
  },
  {
   "cell_type": "code",
   "execution_count": 7,
   "metadata": {},
   "outputs": [
    {
     "name": "stdout",
     "output_type": "stream",
     "text": [
      "<class 'pandas.core.frame.DataFrame'>\n",
      "RangeIndex: 456550 entries, 0 to 456549\n",
      "Data columns (total 9 columns):\n",
      " #   Column                 Non-Null Count   Dtype  \n",
      "---  ------                 --------------   -----  \n",
      " 0   id                     456548 non-null  float64\n",
      " 1   week                   456548 non-null  float64\n",
      " 2   center_id              456548 non-null  float64\n",
      " 3   meal_id                456548 non-null  float64\n",
      " 4   checkout_price         456548 non-null  float64\n",
      " 5   base_price             456548 non-null  float64\n",
      " 6   emailer_for_promotion  456548 non-null  float64\n",
      " 7   homepage_featured      456548 non-null  float64\n",
      " 8   num_orders             456548 non-null  float64\n",
      "dtypes: float64(9)\n",
      "memory usage: 31.3 MB\n"
     ]
    }
   ],
   "source": [
    "df1.info()"
   ]
  },
  {
   "cell_type": "code",
   "execution_count": 8,
   "metadata": {},
   "outputs": [
    {
     "data": {
      "image/png": "[encoded data removed]",
      "text/plain": [
       "<Figure size 1152x360 with 2 Axes>"
      ]
     },
     "metadata": {
      "needs_background": "light"
     },
     "output_type": "display_data"
    }
   ],
   "source": [
    "import warnings\n",
    "warnings.filterwarnings('ignore')\n",
    "plt.figure(figsize=(16,5))\n",
    "plt.subplot(1,2,1)\n",
    "sns.distplot(df1['checkout_price'])\n",
    "plt.subplot(1,2,2)\n",
    "sns.distplot(df1['base_price'])\n",
    "plt.show()"
   ]
  },
  {
   "cell_type": "code",
   "execution_count": 9,
   "metadata": {},
   "outputs": [
    {
     "data": {
      "image/png": "[encoded data removed]",
      "text/plain": [
       "<Figure size 1152x360 with 2 Axes>"
      ]
     },
     "metadata": {
      "needs_background": "light"
     },
     "output_type": "display_data"
    }
   ],
   "source": [
    "plt.figure(figsize=(16,5))\n",
    "plt.subplot(1,2,1)\n",
    "sns.distplot(df1['num_orders'])\n",
    "plt.subplot(1,2,2)\n",
    "sns.distplot(df1['week'])\n",
    "plt.show()"
   ]
  },
  {
   "cell_type": "code",
   "execution_count": 10,
   "metadata": {},
   "outputs": [
    {
     "data": {
      "image/png": "[encoded data removed]",
      "text/plain": [
       "<Figure size 1152x360 with 2 Axes>"
      ]
     },
     "metadata": {
      "needs_background": "light"
     },
     "output_type": "display_data"
    }
   ],
   "source": [
    "plt.figure(figsize=(16,5))\n",
    "plt.subplot(1,2,1)\n",
    "sns.boxplot(df1['checkout_price'])\n",
    "plt.subplot(1,2,2)\n",
    "sns.boxplot(df1['base_price'])\n",
    "plt.show()\n"
   ]
  },
  {
   "cell_type": "code",
   "execution_count": 11,
   "metadata": {},
   "outputs": [
    {
     "data": {
      "image/png": "[encoded data removed]",
      "text/plain": [
       "<Figure size 1152x360 with 2 Axes>"
      ]
     },
     "metadata": {
      "needs_background": "light"
     },
     "output_type": "display_data"
    }
   ],
   "source": [
    "plt.figure(figsize=(16,5))\n",
    "plt.subplot(1,2,1)\n",
    "sns.boxplot(df1['num_orders'])\n",
    "plt.subplot(1,2,2)\n",
    "sns.boxplot(df1['week'])\n",
    "plt.show()"
   ]
  },
  {
   "cell_type": "markdown",
   "metadata": {},
   "source": [
    "## Detection And Removal Of Outliers"
   ]
  },
  {
   "cell_type": "code",
   "execution_count": 12,
   "metadata": {},
   "outputs": [],
   "source": [
    "columns=['num_orders','checkout_price','base_price',]\n",
    "new_df_cap = df1.copy()\n",
    "for elements in columns: \n",
    "    percentile25 = df1[elements].quantile(0.25)\n",
    "    percentile75 = df1[elements].quantile(0.75)\n",
    "    iqr=percentile75-percentile25\n",
    "    upper_limit = percentile75 + 1.5 * iqr\n",
    "    lower_limit = percentile25 - 1.5 * iqr\n",
    "    df1[df1[elements] > upper_limit]\n",
    "    df1[df1[elements] < lower_limit]\n",
    "    new_df= df1[df1[elements] < upper_limit]\n",
    "    new_df_cap[elements] = np.where(\n",
    "        new_df_cap[elements] > upper_limit,\n",
    "        upper_limit,\n",
    "        np.where(\n",
    "            new_df_cap[elements] < lower_limit,\n",
    "            lower_limit,\n",
    "            new_df_cap[elements]\n",
    "        )\n",
    "    )\n"
   ]
  },
  {
   "cell_type": "code",
   "execution_count": 13,
   "metadata": {},
   "outputs": [
    {
     "data": {
      "image/png": "[encoded data removed]",
      "text/plain": [
       "<Figure size 1152x360 with 2 Axes>"
      ]
     },
     "metadata": {
      "needs_background": "light"
     },
     "output_type": "display_data"
    }
   ],
   "source": [
    "plt.figure(figsize=(16,5))\n",
    "plt.subplot(1,2,1)\n",
    "sns.boxplot(new_df_cap['num_orders'])\n",
    "plt.subplot(1,2,2)\n",
    "sns.boxplot(new_df_cap['checkout_price'])\n",
    "plt.show()\n"
   ]
  },
  {
   "cell_type": "code",
   "execution_count": 14,
   "metadata": {},
   "outputs": [
    {
     "data": {
      "text/plain": [
       "<AxesSubplot:xlabel='base_price'>"
      ]
     },
     "execution_count": 14,
     "metadata": {},
     "output_type": "execute_result"
    },
    {
     "data": {
      "image/png": "[encoded data removed]",
      "text/plain": [
       "<Figure size 432x288 with 1 Axes>"
      ]
     },
     "metadata": {
      "needs_background": "light"
     },
     "output_type": "display_data"
    }
   ],
   "source": [
    "sns.boxplot(new_df_cap['base_price'])\n",
    "\n"
   ]
  },
  {
   "cell_type": "code",
   "execution_count": 15,
   "metadata": {},
   "outputs": [],
   "source": [
    "new_df_cap = new_df_cap.dropna()\n"
   ]
  },
  {
   "cell_type": "code",
   "execution_count": 16,
   "metadata": {},
   "outputs": [],
   "source": [
    "x = new_df_cap.drop('num_orders',1)\n",
    "y = new_df_cap['num_orders']\n",
    "\n",
    "x_train, x_test, y_train, y_test = train_test_split(x,y,test_size=0.2, random_state=104)"
   ]
  },
  {
   "cell_type": "code",
   "execution_count": 17,
   "metadata": {},
   "outputs": [
    {
     "data": {
      "text/plain": [
       "83087     567.0\n",
       "233089    177.0\n",
       "389131     67.0\n",
       "322419    123.0\n",
       "169613    177.0\n",
       "Name: num_orders, dtype: float64"
      ]
     },
     "execution_count": 17,
     "metadata": {},
     "output_type": "execute_result"
    }
   ],
   "source": [
    "y_train.head()"
   ]
  },
  {
   "cell_type": "code",
   "execution_count": 18,
   "metadata": {},
   "outputs": [
    {
     "name": "stdout",
     "output_type": "stream",
     "text": [
      "RMSE:  112.5233715972984\n"
     ]
    }
   ],
   "source": [
    "dt = DecisionTreeRegressor()\n",
    "dt.fit(x_train,y_train)\n",
    "y_pred = dt.predict(x_test)\n",
    "print('RMSE: ',math.sqrt(mean_squared_error(y_test, y_pred)))"
   ]
  },
  {
   "cell_type": "code",
   "execution_count": 19,
   "metadata": {},
   "outputs": [
    {
     "name": "stdout",
     "output_type": "stream",
     "text": [
      "[11:15:54] WARNING: ../src/objective/regression_obj.cu:188: reg:linear is now deprecated in favor of reg:squarederror.\n",
      "RMSE:  135.37199760373795\n"
     ]
    }
   ],
   "source": [
    "xgb = XGBRegressor(objective ='reg:linear',\n",
    "                  n_estimators = 10, seed = 123)\n",
    "xgb.fit(x_train,y_train)\n",
    "y_pred = xgb.predict(x_test)\n",
    "print('RMSE: ',math.sqrt(mean_squared_error(y_test, y_pred)))"
   ]
  },
  {
   "cell_type": "code",
   "execution_count": null,
   "metadata": {},
   "outputs": [],
   "source": [
    "from sklearn import tree\n",
    "tree.plot_tree(dt)"
   ]
  },
  {
   "cell_type": "code",
   "execution_count": 20,
   "metadata": {},
   "outputs": [
    {
     "name": "stdout",
     "output_type": "stream",
     "text": [
      "RMSE:  82.63162771658382\n"
     ]
    }
   ],
   "source": [
    "rf = RandomForestRegressor()\n",
    "rf.fit(x_train,y_train)\n",
    "y_pred = rf.predict(x_test)\n",
    "print('RMSE: ',math.sqrt(mean_squared_error(y_test, y_pred)))"
   ]
  },
  {
   "cell_type": "code",
   "execution_count": 21,
   "metadata": {},
   "outputs": [],
   "source": [
    "import pmdarima as pm\n",
    "import statsmodels.tsa.stattools as ts"
   ]
  },
  {
   "cell_type": "code",
   "execution_count": 22,
   "metadata": {},
   "outputs": [],
   "source": [
    "np.random.seed(7)"
   ]
  },
  {
   "cell_type": "code",
   "execution_count": 23,
   "metadata": {},
   "outputs": [
    {
     "data": {
      "text/html": [
       "<div>\n",
       "<style scoped>\n",
       "    .dataframe tbody tr th:only-of-type {\n",
       "        vertical-align: middle;\n",
       "    }\n",
       "\n",
       "    .dataframe tbody tr th {\n",
       "        vertical-align: top;\n",
       "    }\n",
       "\n",
       "    .dataframe thead th {\n",
       "        text-align: right;\n",
       "    }\n",
       "</style>\n",
       "<table border=\"1\" class=\"dataframe\">\n",
       "  <thead>\n",
       "    <tr style=\"text-align: right;\">\n",
       "      <th></th>\n",
       "      <th>week</th>\n",
       "      <th>num_orders</th>\n",
       "    </tr>\n",
       "  </thead>\n",
       "  <tbody>\n",
       "    <tr>\n",
       "      <th>0</th>\n",
       "      <td>1</td>\n",
       "      <td>177</td>\n",
       "    </tr>\n",
       "    <tr>\n",
       "      <th>1</th>\n",
       "      <td>2</td>\n",
       "      <td>323</td>\n",
       "    </tr>\n",
       "    <tr>\n",
       "      <th>2</th>\n",
       "      <td>3</td>\n",
       "      <td>96</td>\n",
       "    </tr>\n",
       "    <tr>\n",
       "      <th>3</th>\n",
       "      <td>4</td>\n",
       "      <td>163</td>\n",
       "    </tr>\n",
       "    <tr>\n",
       "      <th>4</th>\n",
       "      <td>5</td>\n",
       "      <td>215</td>\n",
       "    </tr>\n",
       "    <tr>\n",
       "      <th>...</th>\n",
       "      <td>...</td>\n",
       "      <td>...</td>\n",
       "    </tr>\n",
       "    <tr>\n",
       "      <th>140</th>\n",
       "      <td>141</td>\n",
       "      <td>107</td>\n",
       "    </tr>\n",
       "    <tr>\n",
       "      <th>141</th>\n",
       "      <td>142</td>\n",
       "      <td>121</td>\n",
       "    </tr>\n",
       "    <tr>\n",
       "      <th>142</th>\n",
       "      <td>143</td>\n",
       "      <td>176</td>\n",
       "    </tr>\n",
       "    <tr>\n",
       "      <th>143</th>\n",
       "      <td>144</td>\n",
       "      <td>162</td>\n",
       "    </tr>\n",
       "    <tr>\n",
       "      <th>144</th>\n",
       "      <td>145</td>\n",
       "      <td>121</td>\n",
       "    </tr>\n",
       "  </tbody>\n",
       "</table>\n",
       "<p>145 rows × 2 columns</p>\n",
       "</div>"
      ],
      "text/plain": [
       "     week  num_orders\n",
       "0       1         177\n",
       "1       2         323\n",
       "2       3          96\n",
       "3       4         163\n",
       "4       5         215\n",
       "..    ...         ...\n",
       "140   141         107\n",
       "141   142         121\n",
       "142   143         176\n",
       "143   144         162\n",
       "144   145         121\n",
       "\n",
       "[145 rows x 2 columns]"
      ]
     },
     "execution_count": 23,
     "metadata": {},
     "output_type": "execute_result"
    }
   ],
   "source": [
    "df = pd.read_csv('new_data1.csv')\n",
    "df\n"
   ]
  },
  {
   "cell_type": "code",
   "execution_count": 24,
   "metadata": {},
   "outputs": [
    {
     "data": {
      "text/plain": [
       "0      177\n",
       "1      323\n",
       "2       96\n",
       "3      163\n",
       "4      215\n",
       "      ... \n",
       "140    107\n",
       "141    121\n",
       "142    176\n",
       "143    162\n",
       "144    121\n",
       "Name: num_orders, Length: 145, dtype: int64"
      ]
     },
     "execution_count": 24,
     "metadata": {},
     "output_type": "execute_result"
    }
   ],
   "source": [
    "DF1=df['num_orders']\n",
    "DF1"
   ]
  },
  {
   "cell_type": "code",
   "execution_count": 25,
   "metadata": {},
   "outputs": [
    {
     "data": {
      "text/plain": [
       "array([177., 323.,  96., 163., 215., 285., 148., 135., 175., 175., 244.,\n",
       "       190.,  68., 135., 366.,  67., 270., 350., 244., 188., 136., 296.,\n",
       "       188., 161.,  55., 176., 202., 296., 107., 135., 203., 123., 215.,\n",
       "       231., 284., 161., 188., 175., 270., 298., 323., 351., 378., 419.,\n",
       "       256., 460., 350., 366., 433., 513., 284., 406., 500., 404., 419.,\n",
       "       323., 782., 284., 203., 271., 432., 108., 432., 231., 298., 391.,\n",
       "       420., 188., 391., 485., 351., 377., 175., 379., 404., 269., 257.,\n",
       "       230., 284., 271., 163., 148., 242., 216., 231., 204., 256., 377.,\n",
       "       258., 271., 244., 231., 176., 107., 257., 271., 203., 134., 109.,\n",
       "       163., 242., 203., 406., 244., 229., 230., 283., 149., 244., 161.,\n",
       "       135.,  68., 243., 148.,  55.,  69., 162., 176., 123., 148.,  94.,\n",
       "       123., 217., 296., 109.,  94., 231.,  40.,  94.,  95., 162., 162.,\n",
       "       122.,  82., 216., 134.,  96.,  81.,  67., 204., 107., 121., 176.,\n",
       "       162., 121.])"
      ]
     },
     "execution_count": 25,
     "metadata": {},
     "output_type": "execute_result"
    }
   ],
   "source": [
    "dataset=np.array(DF1,dtype=float)\n",
    "dataset"
   ]
  },
  {
   "cell_type": "code",
   "execution_count": 26,
   "metadata": {},
   "outputs": [
    {
     "data": {
      "image/png": "[encoded data removed]",
      "text/plain": [
       "<Figure size 432x288 with 4 Axes>"
      ]
     },
     "metadata": {
      "needs_background": "light"
     },
     "output_type": "display_data"
    }
   ],
   "source": [
    "from statsmodels.tsa.seasonal import seasonal_decompose\n",
    "\n",
    "decomposition=seasonal_decompose(dataset, model='additive', freq=1)\n",
    "trend=decomposition.trend\n",
    "seasonal=decomposition.seasonal\n",
    "residual=decomposition.resid\n",
    "plt.subplot(221)\n",
    "plt.plot(dataset,color='#ff0000', label='Series')\n",
    "plt.legend(loc='best')\n",
    "plt.subplot(222)\n",
    "plt.plot(trend,color='#1100ff', label='Trend')\n",
    "plt.legend(loc='best')\n",
    "plt.tight_layout()\n",
    "plt.subplot(223)\n",
    "plt.plot(residual,color='#00ff1a', label='Residual')\n",
    "plt.legend(loc='best')\n",
    "plt.tight_layout()\n",
    "plt.subplot(224)\n",
    "plt.plot(seasonal,color='#de00ff', label='Seasonality')\n",
    "plt.legend(loc='best')\n",
    "plt.tight_layout()\n",
    "plt.show()"
   ]
  },
  {
   "cell_type": "code",
   "execution_count": 27,
   "metadata": {},
   "outputs": [
    {
     "data": {
      "image/png": "[encoded data removed]",
      "text/plain": [
       "<Figure size 432x288 with 1 Axes>"
      ]
     },
     "metadata": {
      "needs_background": "light"
     },
     "output_type": "display_data"
    }
   ],
   "source": [
    "plt.plot(dataset)\n",
    "plt.xlabel('week')\n",
    "plt.ylabel('num of orders')\n",
    "plt.show()"
   ]
  },
  {
   "cell_type": "code",
   "execution_count": 28,
   "metadata": {},
   "outputs": [
    {
     "data": {
      "text/plain": [
       "array([177., 323.,  96., 163., 215., 285., 148., 135., 175., 175., 244.,\n",
       "       190.,  68., 135., 366.,  67., 270., 350., 244., 188., 136., 296.,\n",
       "       188., 161.,  55., 176., 202., 296., 107., 135., 203., 123., 215.,\n",
       "       231., 284., 161., 188., 175., 270., 298., 323., 351., 378., 419.,\n",
       "       256., 460., 350., 366., 433., 513., 284., 406., 500., 404., 419.,\n",
       "       323., 782., 284., 203., 271., 432., 108., 432., 231., 298., 391.,\n",
       "       420., 188., 391., 485., 351., 377., 175., 379., 404., 269., 257.,\n",
       "       230., 284., 271., 163., 148., 242., 216., 231., 204., 256., 377.,\n",
       "       258., 271., 244., 231., 176., 107., 257., 271., 203., 134., 109.,\n",
       "       163.])"
      ]
     },
     "execution_count": 28,
     "metadata": {},
     "output_type": "execute_result"
    }
   ],
   "source": [
    "train_df=dataset[:100]\n",
    "train_df"
   ]
  },
  {
   "cell_type": "code",
   "execution_count": 29,
   "metadata": {},
   "outputs": [],
   "source": [
    "test_df=dataset[100:128]\n"
   ]
  },
  {
   "cell_type": "code",
   "execution_count": 30,
   "metadata": {},
   "outputs": [
    {
     "name": "stdout",
     "output_type": "stream",
     "text": [
      "[201.         195.         173.85714286 185.14285714 196.71428571\n",
      " 193.14285714 162.14285714 160.28571429 193.28571429 177.85714286\n",
      " 191.42857143 206.57142857 214.28571429 231.42857143 231.57142857\n",
      " 221.57142857 238.85714286 223.28571429 181.14285714 171.42857143\n",
      " 173.42857143 196.28571429 169.28571429 161.71428571 167.71428571\n",
      " 177.42857143 183.         187.14285714 185.42857143 193.14285714\n",
      " 200.71428571 196.71428571 217.71428571 229.57142857 242.71428571\n",
      " 252.28571429 283.28571429 316.28571429 327.85714286 355.\n",
      " 362.42857143 368.57142857 380.28571429 399.57142857 380.28571429\n",
      " 401.71428571 407.42857143 415.14285714 422.71428571 407.\n",
      " 445.42857143 445.42857143 416.42857143 383.71428571 387.71428571\n",
      " 343.28571429 358.85714286 280.14285714 282.14285714 309.\n",
      " 330.28571429 295.42857143 335.85714286 343.42857143 360.57142857\n",
      " 371.85714286 341.         335.14285714 366.         348.57142857\n",
      " 316.         298.71428571 285.42857143 299.14285714 268.28571429\n",
      " 231.71428571 227.85714286 222.         222.14285714 210.71428571\n",
      " 208.57142857 239.14285714 254.85714286 259.         263.\n",
      " 263.         259.         237.71428571 220.57142857 222.42857143\n",
      " 212.71428571 197.         179.57142857 177.71428571]\n"
     ]
    }
   ],
   "source": [
    "window_size = 7\n",
    "\n",
    "numbers_series = pd.Series(train_df)\n",
    "windows = numbers_series.rolling(window_size)\n",
    "moving_averages = windows.mean()\n",
    "\n",
    "moving_averages_list = moving_averages.tolist()\n",
    "ts7 = moving_averages_list[window_size - 1:]\n",
    "ts7=np.array(ts7)\n",
    "print(ts7)"
   ]
  },
  {
   "cell_type": "code",
   "execution_count": 31,
   "metadata": {},
   "outputs": [
    {
     "data": {
      "text/plain": [
       "(-4.120829925672765,\n",
       " 0.0008945261493785132,\n",
       " 1,\n",
       " 98,\n",
       " {'1%': -3.4989097606014496,\n",
       "  '5%': -2.891516256916761,\n",
       "  '10%': -2.5827604414827157},\n",
       " 1199.2608105046345)"
      ]
     },
     "execution_count": 31,
     "metadata": {},
     "output_type": "execute_result"
    }
   ],
   "source": [
    "#Dickey-Fuller Test\n",
    "result = ts.adfuller(train_df, 1)\n",
    "result"
   ]
  },
  {
   "cell_type": "code",
   "execution_count": 33,
   "metadata": {},
   "outputs": [
    {
     "name": "stdout",
     "output_type": "stream",
     "text": [
      "Performing stepwise search to minimize aic\n",
      " ARIMA(0,1,0)(0,1,0)[7]             : AIC=1236.205, Time=0.02 sec\n",
      " ARIMA(1,1,0)(1,1,0)[7]             : AIC=1186.632, Time=0.10 sec\n",
      " ARIMA(0,1,1)(0,1,1)[7]             : AIC=inf, Time=0.33 sec\n",
      " ARIMA(1,1,0)(0,1,0)[7]             : AIC=1212.310, Time=0.02 sec\n",
      " ARIMA(1,1,0)(2,1,0)[7]             : AIC=1178.079, Time=0.41 sec\n",
      " ARIMA(1,1,0)(3,1,0)[7]             : AIC=1178.076, Time=0.54 sec\n",
      " ARIMA(1,1,0)(4,1,0)[7]             : AIC=1162.147, Time=1.28 sec\n",
      " ARIMA(1,1,0)(5,1,0)[7]             : AIC=1159.512, Time=2.31 sec\n",
      " ARIMA(1,1,0)(6,1,0)[7]             : AIC=1161.467, Time=4.06 sec\n",
      " ARIMA(1,1,0)(5,1,1)[7]             : AIC=inf, Time=8.32 sec\n",
      " ARIMA(1,1,0)(4,1,1)[7]             : AIC=inf, Time=4.24 sec\n",
      " ARIMA(1,1,0)(6,1,1)[7]             : AIC=inf, Time=8.27 sec\n",
      " ARIMA(0,1,0)(5,1,0)[7]             : AIC=1183.134, Time=1.53 sec\n",
      " ARIMA(2,1,0)(5,1,0)[7]             : AIC=1149.552, Time=2.72 sec\n",
      " ARIMA(2,1,0)(4,1,0)[7]             : AIC=1151.216, Time=1.70 sec\n",
      " ARIMA(2,1,0)(6,1,0)[7]             : AIC=1151.460, Time=4.12 sec\n",
      " ARIMA(2,1,0)(5,1,1)[7]             : AIC=inf, Time=8.23 sec\n",
      " ARIMA(2,1,0)(4,1,1)[7]             : AIC=inf, Time=5.69 sec\n",
      " ARIMA(2,1,0)(6,1,1)[7]             : AIC=inf, Time=12.18 sec\n",
      " ARIMA(3,1,0)(5,1,0)[7]             : AIC=1139.727, Time=3.52 sec\n",
      " ARIMA(3,1,0)(4,1,0)[7]             : AIC=1139.717, Time=1.67 sec\n",
      " ARIMA(3,1,0)(3,1,0)[7]             : AIC=1149.031, Time=1.16 sec\n",
      " ARIMA(3,1,0)(4,1,1)[7]             : AIC=inf, Time=6.80 sec\n",
      " ARIMA(3,1,0)(3,1,1)[7]             : AIC=inf, Time=2.40 sec\n",
      " ARIMA(3,1,0)(5,1,1)[7]             : AIC=inf, Time=7.97 sec\n",
      " ARIMA(4,1,0)(4,1,0)[7]             : AIC=1141.613, Time=2.09 sec\n",
      " ARIMA(3,1,1)(4,1,0)[7]             : AIC=1141.537, Time=3.39 sec\n",
      " ARIMA(2,1,1)(4,1,0)[7]             : AIC=1142.824, Time=2.94 sec\n",
      " ARIMA(4,1,1)(4,1,0)[7]             : AIC=1143.717, Time=3.14 sec\n",
      " ARIMA(3,1,0)(4,1,0)[7] intercept   : AIC=1141.563, Time=3.24 sec\n",
      "\n",
      "Best model:  ARIMA(3,1,0)(4,1,0)[7]          \n",
      "Total fit time: 104.429 seconds\n"
     ]
    }
   ],
   "source": [
    "Arima_model=pm.auto_arima(train_df, start_p=0, start_q=0, max_p=10, max_q=10, start_P=0, start_Q=0, max_P=10, max_Q=10, m=7, stepwise=True, seasonal=True, information_criterion='aic', trace=True, d=1, D=1, error_action='warn', suppress_warnings=True, random_state = 20, n_fits=30)"
   ]
  },
  {
   "cell_type": "code",
   "execution_count": 34,
   "metadata": {},
   "outputs": [],
   "source": [
    "prediction=pd.DataFrame(Arima_model.predict(n_periods=28), index=test_df)\n",
    "prediction=np.array(prediction)"
   ]
  },
  {
   "cell_type": "code",
   "execution_count": 35,
   "metadata": {},
   "outputs": [
    {
     "data": {
      "text/plain": [
       "array([[176.67465963],\n",
       "       [195.70423778],\n",
       "       [111.6946322 ],\n",
       "       [186.94746719],\n",
       "       [197.15390557],\n",
       "       [126.87060483],\n",
       "       [145.51647292],\n",
       "       [ 61.09010498],\n",
       "       [175.63006841],\n",
       "       [156.20603778],\n",
       "       [116.48547375],\n",
       "       [ 91.41640241],\n",
       "       [ 64.43428916],\n",
       "       [ 88.76128146],\n",
       "       [ 72.12998325],\n",
       "       [ 85.63511126],\n",
       "       [ 46.47635127],\n",
       "       [ 85.52592857],\n",
       "       [ 61.7247201 ],\n",
       "       [ 43.39599209],\n",
       "       [ 41.29116865],\n",
       "       [ 34.4891421 ],\n",
       "       [128.13471123],\n",
       "       [ 62.59960711],\n",
       "       [ 66.88760727],\n",
       "       [ 40.87190428],\n",
       "       [ 14.89417336],\n",
       "       [  7.53458208]])"
      ]
     },
     "execution_count": 35,
     "metadata": {},
     "output_type": "execute_result"
    }
   ],
   "source": [
    "prediction"
   ]
  },
  {
   "cell_type": "code",
   "execution_count": 36,
   "metadata": {},
   "outputs": [
    {
     "name": "stdout",
     "output_type": "stream",
     "text": [
      "RMSE: 109.477577\n"
     ]
    }
   ],
   "source": [
    "mse = mean_squared_error(test_df, prediction)\n",
    "rmse = math.sqrt(mse)\n",
    "print('RMSE: %f' % rmse)"
   ]
  },
  {
   "cell_type": "code",
   "execution_count": 37,
   "metadata": {},
   "outputs": [
    {
     "data": {
      "image/png": "[encoded data removed]",
      "text/plain": [
       "<Figure size 432x288 with 1 Axes>"
      ]
     },
     "metadata": {
      "needs_background": "light"
     },
     "output_type": "display_data"
    }
   ],
   "source": [
    "plt.plot(test_df)\n",
    "plt.plot(prediction)\n",
    "plt.xlabel('week')\n",
    "plt.ylabel('num of orders')\n",
    "plt.title(\"Test vs. Prediction\")\n",
    "plt.show()"
   ]
  },
  {
   "cell_type": "code",
   "execution_count": 38,
   "metadata": {},
   "outputs": [],
   "source": [
    "test = pd.read_csv('tst.csv')\n"
   ]
  },
  {
   "cell_type": "code",
   "execution_count": 39,
   "metadata": {},
   "outputs": [],
   "source": [
    "f_test = pd.get_dummies(test)\n"
   ]
  },
  {
   "cell_type": "code",
   "execution_count": 40,
   "metadata": {},
   "outputs": [],
   "source": [
    "pred = rf.predict(f_test)"
   ]
  },
  {
   "cell_type": "code",
   "execution_count": 41,
   "metadata": {},
   "outputs": [],
   "source": [
    "test['num_orders'] = pred"
   ]
  },
  {
   "cell_type": "code",
   "execution_count": 42,
   "metadata": {},
   "outputs": [],
   "source": [
    "sample =  test.loc[:,['id','num_orders']]"
   ]
  },
  {
   "cell_type": "code",
   "execution_count": 43,
   "metadata": {},
   "outputs": [
    {
     "data": {
      "text/html": [
       "<div>\n",
       "<style scoped>\n",
       "    .dataframe tbody tr th:only-of-type {\n",
       "        vertical-align: middle;\n",
       "    }\n",
       "\n",
       "    .dataframe tbody tr th {\n",
       "        vertical-align: top;\n",
       "    }\n",
       "\n",
       "    .dataframe thead th {\n",
       "        text-align: right;\n",
       "    }\n",
       "</style>\n",
       "<table border=\"1\" class=\"dataframe\">\n",
       "  <thead>\n",
       "    <tr style=\"text-align: right;\">\n",
       "      <th></th>\n",
       "      <th>id</th>\n",
       "      <th>num_orders</th>\n",
       "    </tr>\n",
       "  </thead>\n",
       "  <tbody>\n",
       "    <tr>\n",
       "      <th>0</th>\n",
       "      <td>1028232</td>\n",
       "      <td>147.53</td>\n",
       "    </tr>\n",
       "    <tr>\n",
       "      <th>1</th>\n",
       "      <td>1127204</td>\n",
       "      <td>130.69</td>\n",
       "    </tr>\n",
       "    <tr>\n",
       "      <th>2</th>\n",
       "      <td>1212707</td>\n",
       "      <td>259.15</td>\n",
       "    </tr>\n",
       "    <tr>\n",
       "      <th>3</th>\n",
       "      <td>1082698</td>\n",
       "      <td>73.34</td>\n",
       "    </tr>\n",
       "    <tr>\n",
       "      <th>4</th>\n",
       "      <td>1400926</td>\n",
       "      <td>57.11</td>\n",
       "    </tr>\n",
       "  </tbody>\n",
       "</table>\n",
       "</div>"
      ],
      "text/plain": [
       "        id  num_orders\n",
       "0  1028232      147.53\n",
       "1  1127204      130.69\n",
       "2  1212707      259.15\n",
       "3  1082698       73.34\n",
       "4  1400926       57.11"
      ]
     },
     "execution_count": 43,
     "metadata": {},
     "output_type": "execute_result"
    }
   ],
   "source": [
    "sample.head()"
   ]
  },
  {
   "cell_type": "code",
   "execution_count": null,
   "metadata": {},
   "outputs": [],
   "source": []
  }
 ],
 "metadata": {
  "kernelspec": {
   "display_name": "Python 3",
   "language": "python",
   "name": "python3"
  },
  "language_info": {
   "codemirror_mode": {
    "name": "ipython",
    "version": 3
   },
   "file_extension": ".py",
   "mimetype": "text/x-python",
   "name": "python",
   "nbconvert_exporter": "python",
   "pygments_lexer": "ipython3",
   "version": "3.7.6"
  }
 },
 "nbformat": 4,
 "nbformat_minor": 4
}
